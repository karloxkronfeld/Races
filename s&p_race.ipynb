{
  "nbformat": 4,
  "nbformat_minor": 0,
  "metadata": {
    "kernelspec": {
      "display_name": "Python 3",
      "language": "python",
      "name": "python3"
    },
    "language_info": {
      "codemirror_mode": {
        "name": "ipython",
        "version": 3
      },
      "file_extension": ".py",
      "mimetype": "text/x-python",
      "name": "python",
      "nbconvert_exporter": "python",
      "pygments_lexer": "ipython3",
      "version": "3.7.1"
    },
    "colab": {
      "name": "s&p race.ipynb",
      "provenance": [],
      "include_colab_link": true
    }
  },
  "cells": [
    {
      "cell_type": "markdown",
      "metadata": {
        "id": "view-in-github",
        "colab_type": "text"
      },
      "source": [
        "<a href=\"https://colab.research.google.com/github/karloxkronfeld/Races/blob/master/s%26p_race.ipynb\" target=\"_parent\"><img src=\"https://colab.research.google.com/assets/colab-badge.svg\" alt=\"Open In Colab\"/></a>"
      ]
    },
    {
      "cell_type": "code",
      "metadata": {
        "id": "Z2WD9NJNnGTU",
        "colab_type": "code",
        "colab": {}
      },
      "source": [
        "import pandas as pd\n",
        "import pandas_datareader as data\n",
        "from pylab import *\n",
        "from matplotlib import animation,rc\n",
        "from IPython.display import HTML"
      ],
      "execution_count": null,
      "outputs": []
    },
    {
      "cell_type": "code",
      "metadata": {
        "id": "r8yTfRrCnGTY",
        "colab_type": "code",
        "colab": {}
      },
      "source": [
        "pagina=pd.read_html(\"https://en.wikipedia.org/wiki/S%26P_100\",header=0)[2]\n",
        "simbolos=pagina.Symbol.values"
      ],
      "execution_count": null,
      "outputs": []
    },
    {
      "cell_type": "code",
      "metadata": {
        "id": "TP-HlmE-nGTb",
        "colab_type": "code",
        "colab": {},
        "outputId": "40dca307-dea5-40fa-d5b9-310285ded757"
      },
      "source": [
        "datos=data.DataReader(simbolos,\"yahoo\",\"2000-01-01\",\"2020-09-01\")"
      ],
      "execution_count": null,
      "outputs": [
        {
          "output_type": "stream",
          "text": [
            "C:\\Users\\Carlos\\Anaconda3\\lib\\site-packages\\pandas_datareader\\base.py:270: SymbolWarning: Failed to read symbol: 'BRK.B', replacing with NaN.\n",
            "  warnings.warn(msg.format(sym), SymbolWarning)\n",
            "C:\\Users\\Carlos\\Anaconda3\\lib\\site-packages\\pandas_datareader\\base.py:270: SymbolWarning: Failed to read symbol: 'DD', replacing with NaN.\n",
            "  warnings.warn(msg.format(sym), SymbolWarning)\n",
            "C:\\Users\\Carlos\\Anaconda3\\lib\\site-packages\\pandas_datareader\\base.py:270: SymbolWarning: Failed to read symbol: 'GD', replacing with NaN.\n",
            "  warnings.warn(msg.format(sym), SymbolWarning)\n",
            "C:\\Users\\Carlos\\Anaconda3\\lib\\site-packages\\pandas_datareader\\base.py:270: SymbolWarning: Failed to read symbol: 'GOOGL', replacing with NaN.\n",
            "  warnings.warn(msg.format(sym), SymbolWarning)\n",
            "C:\\Users\\Carlos\\Anaconda3\\lib\\site-packages\\pandas_datareader\\base.py:270: SymbolWarning: Failed to read symbol: 'HD', replacing with NaN.\n",
            "  warnings.warn(msg.format(sym), SymbolWarning)\n",
            "C:\\Users\\Carlos\\Anaconda3\\lib\\site-packages\\pandas_datareader\\base.py:270: SymbolWarning: Failed to read symbol: 'HON', replacing with NaN.\n",
            "  warnings.warn(msg.format(sym), SymbolWarning)\n",
            "C:\\Users\\Carlos\\Anaconda3\\lib\\site-packages\\pandas_datareader\\base.py:270: SymbolWarning: Failed to read symbol: 'NFLX', replacing with NaN.\n",
            "  warnings.warn(msg.format(sym), SymbolWarning)\n",
            "C:\\Users\\Carlos\\Anaconda3\\lib\\site-packages\\pandas_datareader\\base.py:270: SymbolWarning: Failed to read symbol: 'PG', replacing with NaN.\n",
            "  warnings.warn(msg.format(sym), SymbolWarning)\n",
            "C:\\Users\\Carlos\\Anaconda3\\lib\\site-packages\\pandas_datareader\\base.py:270: SymbolWarning: Failed to read symbol: 'RTX', replacing with NaN.\n",
            "  warnings.warn(msg.format(sym), SymbolWarning)\n",
            "C:\\Users\\Carlos\\Anaconda3\\lib\\site-packages\\pandas_datareader\\base.py:270: SymbolWarning: Failed to read symbol: 'SPG', replacing with NaN.\n",
            "  warnings.warn(msg.format(sym), SymbolWarning)\n",
            "C:\\Users\\Carlos\\Anaconda3\\lib\\site-packages\\pandas_datareader\\base.py:270: SymbolWarning: Failed to read symbol: 'UNH', replacing with NaN.\n",
            "  warnings.warn(msg.format(sym), SymbolWarning)\n",
            "C:\\Users\\Carlos\\Anaconda3\\lib\\site-packages\\pandas_datareader\\base.py:270: SymbolWarning: Failed to read symbol: 'VZ', replacing with NaN.\n",
            "  warnings.warn(msg.format(sym), SymbolWarning)\n"
          ],
          "name": "stderr"
        }
      ]
    },
    {
      "cell_type": "code",
      "metadata": {
        "id": "uBEBoSJ5nGTe",
        "colab_type": "code",
        "colab": {}
      },
      "source": [
        "lista_faltaron= [\"BRK-B\",\"GD\",\"GOOG\",\"HD\",\"NFLX\",\"PG\",\"RTX\",\"SPG\",\"UNH\",\"VZ\"]\n",
        "faltaron_otro=data.DataReader(lista_faltaron,\"yahoo\",\"2000-01-01\",\"2020-09-01\")"
      ],
      "execution_count": null,
      "outputs": []
    },
    {
      "cell_type": "code",
      "metadata": {
        "id": "b-udoRd5nGTh",
        "colab_type": "code",
        "colab": {}
      },
      "source": [
        "datos=pd.concat([datos,faltaron_otro],axis=1)\n",
        "dic_simbolos={pagina.Symbol[y]:pagina.Name[y] for y in range(len(pagina))}\n",
        "dic_simbolos[\"BRK-B\"] = dic_simbolos.pop(\"BRK.B\") "
      ],
      "execution_count": null,
      "outputs": []
    },
    {
      "cell_type": "code",
      "metadata": {
        "scrolled": true,
        "id": "3MJ5FvCPnGTr",
        "colab_type": "code",
        "colab": {}
      },
      "source": [
        "fecha= datos.index[-1009]\n",
        "\n",
        "def Race(fecha):\n",
        "    funcion =pd.DataFrame(datos.loc[fecha][\"Adj Close\"]).dropna().rename(columns={fecha:\"Precio\"}).sort_values(\"Precio\")[-20:].drop_duplicates()\n",
        "    precio=funcion.Precio\n",
        "    symbol=funcion.index\n",
        "    \n",
        "    ax=fig_.add_axes([0, 0, 1, 1],frame_on=True)  \n",
        "    ax.clear()\n",
        "    ax.barh(funcion.index,funcion.Precio,color=\"red\",edgecolor=\"w\")\n",
        "    \n",
        "    xlim(0.5,precio.max()*3.5)\n",
        "    ylim(-0.5,22)\n",
        "    ax.set_facecolor(\"k\")\n",
        "    xticks([])\n",
        "    yticks([])\n",
        "    \n",
        "    for x, (precio, simbolo) in enumerate(zip(precio,symbol)):    \n",
        "        ax.text(precio,x,\"[${}] - {}\".format(f\"{precio:,.1f}\",dic_simbolos[simbolo]),size=14,va=\"center\",color=\"w\")  \n",
        "    \n",
        "    ax.text(0,20,\"S&P100 Stock Price\",color=\"w\",size=22)  \n",
        "    ax.text(0.86,0.72,\"|{}\".format(fecha.year),color=\"w\",size=70,rotation=90,transform=ax.transAxes)\n",
        "    ax.text(0.95,0.2,\" {}|{}\".format(fecha.strftime(\"%B\")[0:3],fecha.day),transform=ax.transAxes,size=45,va=\"top\",ha='right',rotation=0,color=\"w\")     \n",
        "    ax.text(1,0, 'by Graphic Race', transform=ax.transAxes, ha='right',color='black', bbox=dict(facecolor='white', alpha=1, edgecolor='white'))\n",
        "    \n",
        "    \n",
        "    mini_datos=datos.loc[:fecha][\"Adj Close\"].T.sort_values(fecha,ascending=True).dropna()[-3:].T\n",
        "    \n",
        "    \n",
        "    ax1=fig_.add_axes([0, 0.2, 0.55, 0.5])\n",
        "    ax1.clear()\n",
        "    ax1.plot(mini_datos,alpha=0.3)\n",
        "    ax1.set_facecolor(\"k\")\n",
        "    ax1.set_frame_on(False)\n",
        "    xticks([])\n",
        "    yticks([])\n",
        "    \n",
        "    for j in range(3):\n",
        "        colores=[\"dodgerblue\",\"darkorange\",\"forestgreen\"]\n",
        "        ax1.text(fecha,mini_datos.iloc[-1,j],\" #{} {}(${})\".format(3-j,mini_datos.columns[j],f\"{mini_datos.iloc[-1,j]:,.0f}\"),color=colores[j],size=25)        \n",
        "        ax1.scatter(mini_datos.index[-20:-1:4],mini_datos.iloc[-20:-1:4,j],s=1)\n",
        "    \n",
        "fig_=figure(figsize=(8,4),dpi=120)\n",
        "# Race(fecha)\n",
        "intervalo=datos.index[:]\n",
        "mi_anim=animation.FuncAnimation(fig_,Race,frames=intervalo,interval=50)\n",
        "rc(\"animation\",ffmpeg_path=r'C:/Users/Carlos/Downloads/FFmpeg/bin/ffmpeg.exe')\n",
        "rcParams['animation.embed_limit'] = 2**128\n",
        "HTML(mi_anim.to_html5_video())\n"
      ],
      "execution_count": null,
      "outputs": []
    },
    {
      "cell_type": "code",
      "metadata": {
        "id": "n2dac4dRnGUh",
        "colab_type": "code",
        "colab": {}
      },
      "source": [
        "    "
      ],
      "execution_count": null,
      "outputs": []
    },
    {
      "cell_type": "code",
      "metadata": {
        "id": "fqJusHNAnGUm",
        "colab_type": "code",
        "colab": {}
      },
      "source": [
        ""
      ],
      "execution_count": null,
      "outputs": []
    }
  ]
}